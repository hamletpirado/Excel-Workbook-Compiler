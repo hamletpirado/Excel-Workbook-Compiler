{
 "cells": [
  {
   "cell_type": "code",
   "execution_count": 1,
   "id": "4d4b0672-0e03-4f60-b924-f3224b9fa1b1",
   "metadata": {},
   "outputs": [
    {
     "name": "stdout",
     "output_type": "stream",
     "text": [
      "Erro: 'C:\\Users\\educo\\Downloads\\workbooks_by_months' não é um diretório válido.\n"
     ]
    }
   ],
   "source": [
    "import os\n",
    "from pathlib import Path\n",
    "from openpyxl import Workbook, load_workbook\n",
    "from typing import Union\n",
    "\n",
    "def compile_workbooks(workbooks_path: Union[str, Path], final_filename: str) -> Path:\n",
    "    \"\"\"\n",
    "    Compila múltiplas planilhas Excel em um único arquivo.\n",
    "    \n",
    "    Args:\n",
    "        workbooks_path: Caminho para o diretório com as planilhas\n",
    "        final_filename: Nome do arquivo final\n",
    "    \n",
    "    Returns:\n",
    "        Path: Caminho do arquivo consolidado\n",
    "    \"\"\"\n",
    "    workbooks_path = Path(workbooks_path)\n",
    "    if not workbooks_path.is_dir():\n",
    "        raise NotADirectoryError(f\"'{workbooks_path}' não é um diretório válido.\")\n",
    "    \n",
    "    if not final_filename.endswith('.xlsx'):\n",
    "        final_filename += '.xlsx'\n",
    "    \n",
    "    final_wb = Workbook()\n",
    "    final_ws = final_wb.active\n",
    "    final_ws.title = \"Consolidado\"\n",
    "    \n",
    "    excel_files = list(workbooks_path.glob('*.xlsx'))\n",
    "    if not excel_files:\n",
    "        raise ValueError(f\"Nenhum arquivo .xlsx encontrado em {workbooks_path}\")\n",
    "    \n",
    "    #Processa o primeiro arquivo para obter o cabeçalho\n",
    "    first_wb = load_workbook(excel_files[0], read_only=True)\n",
    "    first_sheet = first_wb.active\n",
    "    header = next(first_sheet.iter_rows(values_only=True))\n",
    "    final_ws.append(header)\n",
    "    \n",
    "    #Processa todos os arquivos\n",
    "    for file_path in excel_files:\n",
    "        wb = load_workbook(file_path, read_only=True)\n",
    "        for sheet in wb.worksheets:\n",
    "            rows = sheet.iter_rows(min_row=2, values_only=True)\n",
    "            for row in rows:\n",
    "                if any(row):  #Ignora linhas vazias\n",
    "                    final_ws.append(row)\n",
    "        wb.close()\n",
    "    \n",
    "    #Salva o arquivo final - Arquivos_Unificados\n",
    "    downloads_folder = Path.home() / \"Downloads\"\n",
    "    output_path = downloads_folder / final_filename\n",
    "    final_wb.save(output_path)\n",
    "    \n",
    "    return output_path\n",
    "\n",
    "if __name__ == '__main__':\n",
    "    try:\n",
    "        downloads_folder = Path.home() / \"Downloads\"\n",
    "        input_folder = downloads_folder / \"workbooks_by_months\"\n",
    "        saved_path = compile_workbooks(input_folder, \"Arquivos_Unificados\")\n",
    "        print(f\"Arquivo consolidado salvo em: {saved_path}\")\n",
    "    except Exception as e:\n",
    "        print(f\"Erro: {e}\")"
   ]
  }
 ],
 "metadata": {
  "kernelspec": {
   "display_name": "Python 3",
   "language": "python",
   "name": "python3"
  },
  "language_info": {
   "codemirror_mode": {
    "name": "ipython",
    "version": 3
   },
   "file_extension": ".py",
   "mimetype": "text/x-python",
   "name": "python",
   "nbconvert_exporter": "python",
   "pygments_lexer": "ipython3",
   "version": "3.12.7"
  }
 },
 "nbformat": 4,
 "nbformat_minor": 5
}
